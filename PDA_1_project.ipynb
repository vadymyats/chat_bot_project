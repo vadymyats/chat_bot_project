{
 "cells": [
  {
   "cell_type": "code",
   "execution_count": 1,
   "id": "4cb8dc35",
   "metadata": {},
   "outputs": [],
   "source": [
    "import os\n",
    "import string\n",
    "import annoy\n",
    "import codecs\n",
    "import pickle\n",
    "\n",
    "from pymorphy2 import MorphAnalyzer\n",
    "from stop_words import get_stop_words\n",
    "from gensim.models import Word2Vec\n",
    "\n",
    "import numpy as np\n",
    "from tqdm.notebook import tqdm\n",
    "import pandas as pd\n",
    "\n",
    "import re\n",
    "from sklearn.feature_extraction.text import TfidfVectorizer, CountVectorizer, HashingVectorizer"
   ]
  },
  {
   "cell_type": "markdown",
   "id": "56577a1c",
   "metadata": {},
   "source": [
    "# Обучение классификатора «товарный запрос vs. болталка»"
   ]
  },
  {
   "cell_type": "code",
   "execution_count": 2,
   "id": "82f229f0",
   "metadata": {},
   "outputs": [
    {
     "data": {
      "text/html": [
       "<div>\n",
       "<style scoped>\n",
       "    .dataframe tbody tr th:only-of-type {\n",
       "        vertical-align: middle;\n",
       "    }\n",
       "\n",
       "    .dataframe tbody tr th {\n",
       "        vertical-align: top;\n",
       "    }\n",
       "\n",
       "    .dataframe thead th {\n",
       "        text-align: right;\n",
       "    }\n",
       "</style>\n",
       "<table border=\"1\" class=\"dataframe\">\n",
       "  <thead>\n",
       "    <tr style=\"text-align: right;\">\n",
       "      <th></th>\n",
       "      <th>title</th>\n",
       "      <th>descrirption</th>\n",
       "      <th>product_id</th>\n",
       "      <th>category_id</th>\n",
       "      <th>subcategory_id</th>\n",
       "      <th>properties</th>\n",
       "      <th>image_links</th>\n",
       "    </tr>\n",
       "  </thead>\n",
       "  <tbody>\n",
       "    <tr>\n",
       "      <th>0</th>\n",
       "      <td>Юбка детская ORBY</td>\n",
       "      <td>Новая, не носили ни разу. В реале красивей чем...</td>\n",
       "      <td>58e3cfe6132ca50e053f5f82</td>\n",
       "      <td>22.0</td>\n",
       "      <td>2211</td>\n",
       "      <td>{'detskie_razmer_rost': '81-86 (1,5 года)'}</td>\n",
       "      <td>http://cache3.youla.io/files/images/360_360/58...</td>\n",
       "    </tr>\n",
       "    <tr>\n",
       "      <th>1</th>\n",
       "      <td>Ботильоны</td>\n",
       "      <td>Новые,привезены из Чехии ,указан размер 40,но ...</td>\n",
       "      <td>5667531b2b7f8d127d838c34</td>\n",
       "      <td>9.0</td>\n",
       "      <td>902</td>\n",
       "      <td>{'zhenskaya_odezhda_tzvet': 'Зеленый', 'visota...</td>\n",
       "      <td>http://cache3.youla.io/files/images/360_360/5b...</td>\n",
       "    </tr>\n",
       "    <tr>\n",
       "      <th>2</th>\n",
       "      <td>Брюки</td>\n",
       "      <td>Размер 40-42. Брюки почти новые - не знаю как ...</td>\n",
       "      <td>59534826aaab284cba337e06</td>\n",
       "      <td>9.0</td>\n",
       "      <td>906</td>\n",
       "      <td>{'zhenskaya_odezhda_dzhinsy_bryuki_tip': 'Брюк...</td>\n",
       "      <td>http://cache3.youla.io/files/images/360_360/59...</td>\n",
       "    </tr>\n",
       "    <tr>\n",
       "      <th>3</th>\n",
       "      <td>Продам детские шапки</td>\n",
       "      <td>Продам шапки,кажда 200р.Розовая и белая проданны.</td>\n",
       "      <td>57de544096ad842e26de8027</td>\n",
       "      <td>22.0</td>\n",
       "      <td>2217</td>\n",
       "      <td>{'detskie_pol': 'Девочкам', 'detskaya_odezhda_...</td>\n",
       "      <td>http://cache3.youla.io/files/images/360_360/57...</td>\n",
       "    </tr>\n",
       "    <tr>\n",
       "      <th>4</th>\n",
       "      <td>Блузка</td>\n",
       "      <td>Темно-синяя, 42 размер,состояние отличное,как ...</td>\n",
       "      <td>5ad4d2626c86cb168d212022</td>\n",
       "      <td>9.0</td>\n",
       "      <td>907</td>\n",
       "      <td>{'zhenskaya_odezhda_tzvet': 'Синий', 'zhenskay...</td>\n",
       "      <td>http://cache3.youla.io/files/images/360_360/5a...</td>\n",
       "    </tr>\n",
       "  </tbody>\n",
       "</table>\n",
       "</div>"
      ],
      "text/plain": [
       "                  title                                       descrirption  \\\n",
       "0     Юбка детская ORBY  Новая, не носили ни разу. В реале красивей чем...   \n",
       "1             Ботильоны  Новые,привезены из Чехии ,указан размер 40,но ...   \n",
       "2                 Брюки  Размер 40-42. Брюки почти новые - не знаю как ...   \n",
       "3  Продам детские шапки  Продам шапки,кажда 200р.Розовая и белая проданны.   \n",
       "4                Блузка  Темно-синяя, 42 размер,состояние отличное,как ...   \n",
       "\n",
       "                 product_id  category_id subcategory_id  \\\n",
       "0  58e3cfe6132ca50e053f5f82         22.0           2211   \n",
       "1  5667531b2b7f8d127d838c34          9.0            902   \n",
       "2  59534826aaab284cba337e06          9.0            906   \n",
       "3  57de544096ad842e26de8027         22.0           2217   \n",
       "4  5ad4d2626c86cb168d212022          9.0            907   \n",
       "\n",
       "                                          properties  \\\n",
       "0        {'detskie_razmer_rost': '81-86 (1,5 года)'}   \n",
       "1  {'zhenskaya_odezhda_tzvet': 'Зеленый', 'visota...   \n",
       "2  {'zhenskaya_odezhda_dzhinsy_bryuki_tip': 'Брюк...   \n",
       "3  {'detskie_pol': 'Девочкам', 'detskaya_odezhda_...   \n",
       "4  {'zhenskaya_odezhda_tzvet': 'Синий', 'zhenskay...   \n",
       "\n",
       "                                         image_links  \n",
       "0  http://cache3.youla.io/files/images/360_360/58...  \n",
       "1  http://cache3.youla.io/files/images/360_360/5b...  \n",
       "2  http://cache3.youla.io/files/images/360_360/59...  \n",
       "3  http://cache3.youla.io/files/images/360_360/57...  \n",
       "4  http://cache3.youla.io/files/images/360_360/5a...  "
      ]
     },
     "execution_count": 2,
     "metadata": {},
     "output_type": "execute_result"
    }
   ],
   "source": [
    "df = pd.read_csv('data/ProductsDataset.csv')\n",
    "df.head()"
   ]
  },
  {
   "cell_type": "code",
   "execution_count": 3,
   "id": "0d4e3104",
   "metadata": {},
   "outputs": [],
   "source": [
    "data = pd.DataFrame(pd.concat([df['title'], df['descrirption']]), columns = ['title']).dropna().reset_index(drop=True)\n",
    "\n",
    "data['target'] = 1"
   ]
  },
  {
   "cell_type": "code",
   "execution_count": 4,
   "id": "983cb869",
   "metadata": {},
   "outputs": [
    {
     "data": {
      "application/vnd.jupyter.widget-view+json": {
       "model_id": "fcd6e36d77904903a4799cbd4fb53824",
       "version_major": 2,
       "version_minor": 0
      },
      "text/plain": [
       "0it [00:00, ?it/s]"
      ]
     },
     "metadata": {},
     "output_type": "display_data"
    }
   ],
   "source": [
    "question = None\n",
    "answer = False\n",
    "written = False\n",
    "\n",
    "question_list = []\n",
    "\n",
    "\n",
    "with codecs.open('data/Otvety.txt', 'r', 'utf-8') as fin:\n",
    "    for line in tqdm(fin):\n",
    "        \n",
    "        if line.startswith(\"---\"):\n",
    "            question = None\n",
    "            answer = False\n",
    "            continue\n",
    "            \n",
    "        if answer == True:\n",
    "            continue\n",
    "            \n",
    "        if question is None:\n",
    "            question = line.strip()\n",
    "            question_list.append(question)\n",
    "            answer = True\n",
    "            continue"
   ]
  },
  {
   "cell_type": "code",
   "execution_count": 5,
   "id": "19e260c8",
   "metadata": {},
   "outputs": [],
   "source": [
    "data_1 = pd.DataFrame(question_list, columns = ['title'])[1:].reset_index(drop=True)\n",
    "data_1['target'] = 0"
   ]
  },
  {
   "cell_type": "code",
   "execution_count": 6,
   "id": "9ea2b9d5",
   "metadata": {},
   "outputs": [
    {
     "data": {
      "text/html": [
       "<div>\n",
       "<style scoped>\n",
       "    .dataframe tbody tr th:only-of-type {\n",
       "        vertical-align: middle;\n",
       "    }\n",
       "\n",
       "    .dataframe tbody tr th {\n",
       "        vertical-align: top;\n",
       "    }\n",
       "\n",
       "    .dataframe thead th {\n",
       "        text-align: right;\n",
       "    }\n",
       "</style>\n",
       "<table border=\"1\" class=\"dataframe\">\n",
       "  <thead>\n",
       "    <tr style=\"text-align: right;\">\n",
       "      <th></th>\n",
       "      <th>title</th>\n",
       "      <th>target</th>\n",
       "    </tr>\n",
       "  </thead>\n",
       "  <tbody>\n",
       "    <tr>\n",
       "      <th>0</th>\n",
       "      <td>Юбка детская ORBY</td>\n",
       "      <td>1</td>\n",
       "    </tr>\n",
       "    <tr>\n",
       "      <th>1</th>\n",
       "      <td>Ботильоны</td>\n",
       "      <td>1</td>\n",
       "    </tr>\n",
       "    <tr>\n",
       "      <th>2</th>\n",
       "      <td>Брюки</td>\n",
       "      <td>1</td>\n",
       "    </tr>\n",
       "    <tr>\n",
       "      <th>3</th>\n",
       "      <td>Продам детские шапки</td>\n",
       "      <td>1</td>\n",
       "    </tr>\n",
       "    <tr>\n",
       "      <th>4</th>\n",
       "      <td>Блузка</td>\n",
       "      <td>1</td>\n",
       "    </tr>\n",
       "    <tr>\n",
       "      <th>...</th>\n",
       "      <td>...</td>\n",
       "      <td>...</td>\n",
       "    </tr>\n",
       "    <tr>\n",
       "      <th>1163416</th>\n",
       "      <td>Между словами ПРЕЗИДЕНТ и РЕЗИДЕНТ есть что ли...</td>\n",
       "      <td>0</td>\n",
       "    </tr>\n",
       "    <tr>\n",
       "      <th>1163417</th>\n",
       "      <td>\"Если это мое, то оно никуда от меня не денетс...</td>\n",
       "      <td>0</td>\n",
       "    </tr>\n",
       "    <tr>\n",
       "      <th>1163418</th>\n",
       "      <td>А Вы халяву любите или совесть имеете???) .</td>\n",
       "      <td>0</td>\n",
       "    </tr>\n",
       "    <tr>\n",
       "      <th>1163419</th>\n",
       "      <td>Так много разных гороскопов кто-нибудь может п...</td>\n",
       "      <td>0</td>\n",
       "    </tr>\n",
       "    <tr>\n",
       "      <th>1163420</th>\n",
       "      <td>В пылу страстей она сломала мне вставную челюс...</td>\n",
       "      <td>0</td>\n",
       "    </tr>\n",
       "  </tbody>\n",
       "</table>\n",
       "<p>1232506 rows × 2 columns</p>\n",
       "</div>"
      ],
      "text/plain": [
       "                                                     title  target\n",
       "0                                        Юбка детская ORBY       1\n",
       "1                                                Ботильоны       1\n",
       "2                                                    Брюки       1\n",
       "3                                     Продам детские шапки       1\n",
       "4                                                   Блузка       1\n",
       "...                                                    ...     ...\n",
       "1163416  Между словами ПРЕЗИДЕНТ и РЕЗИДЕНТ есть что ли...       0\n",
       "1163417  \"Если это мое, то оно никуда от меня не денетс...       0\n",
       "1163418        А Вы халяву любите или совесть имеете???) .       0\n",
       "1163419  Так много разных гороскопов кто-нибудь может п...       0\n",
       "1163420  В пылу страстей она сломала мне вставную челюс...       0\n",
       "\n",
       "[1232506 rows x 2 columns]"
      ]
     },
     "execution_count": 6,
     "metadata": {},
     "output_type": "execute_result"
    }
   ],
   "source": [
    "data_concat = pd.concat([data, data_1])\n",
    "data_concat"
   ]
  },
  {
   "cell_type": "code",
   "execution_count": 7,
   "id": "42a8cedd",
   "metadata": {},
   "outputs": [
    {
     "data": {
      "text/plain": [
       "0    0.943948\n",
       "1    0.056052\n",
       "Name: target, dtype: float64"
      ]
     },
     "execution_count": 7,
     "metadata": {},
     "output_type": "execute_result"
    }
   ],
   "source": [
    "data_concat['target'].value_counts(normalize=True)"
   ]
  },
  {
   "cell_type": "code",
   "execution_count": 8,
   "id": "28c57b58",
   "metadata": {},
   "outputs": [],
   "source": [
    "from pymorphy2 import MorphAnalyzer\n",
    "from string import punctuation\n",
    "\n",
    "exclude = set(punctuation)\n",
    "morpher = MorphAnalyzer()\n",
    "\n",
    "def preprocess_text(txt):\n",
    "    txt = str(txt)\n",
    "    txt = \"\".join(c for c in txt if c not in exclude)\n",
    "    txt = txt.lower()\n",
    "    txt = [morpher.parse(word)[0].normal_form for word in txt.split() if word not in exclude]\n",
    "    return \" \".join(txt)"
   ]
  },
  {
   "cell_type": "code",
   "execution_count": 9,
   "id": "bf791284",
   "metadata": {},
   "outputs": [
    {
     "data": {
      "text/html": [
       "<div>\n",
       "<style scoped>\n",
       "    .dataframe tbody tr th:only-of-type {\n",
       "        vertical-align: middle;\n",
       "    }\n",
       "\n",
       "    .dataframe tbody tr th {\n",
       "        vertical-align: top;\n",
       "    }\n",
       "\n",
       "    .dataframe thead th {\n",
       "        text-align: right;\n",
       "    }\n",
       "</style>\n",
       "<table border=\"1\" class=\"dataframe\">\n",
       "  <thead>\n",
       "    <tr style=\"text-align: right;\">\n",
       "      <th></th>\n",
       "      <th>title</th>\n",
       "      <th>target</th>\n",
       "      <th>title_new</th>\n",
       "    </tr>\n",
       "  </thead>\n",
       "  <tbody>\n",
       "    <tr>\n",
       "      <th>0</th>\n",
       "      <td>Юбка детская ORBY</td>\n",
       "      <td>1</td>\n",
       "      <td>юбка детский orby</td>\n",
       "    </tr>\n",
       "    <tr>\n",
       "      <th>1</th>\n",
       "      <td>Ботильоны</td>\n",
       "      <td>1</td>\n",
       "      <td>ботильон</td>\n",
       "    </tr>\n",
       "    <tr>\n",
       "      <th>2</th>\n",
       "      <td>Брюки</td>\n",
       "      <td>1</td>\n",
       "      <td>брюки</td>\n",
       "    </tr>\n",
       "    <tr>\n",
       "      <th>3</th>\n",
       "      <td>Продам детские шапки</td>\n",
       "      <td>1</td>\n",
       "      <td>продать детский шапка</td>\n",
       "    </tr>\n",
       "    <tr>\n",
       "      <th>4</th>\n",
       "      <td>Блузка</td>\n",
       "      <td>1</td>\n",
       "      <td>блузка</td>\n",
       "    </tr>\n",
       "    <tr>\n",
       "      <th>...</th>\n",
       "      <td>...</td>\n",
       "      <td>...</td>\n",
       "      <td>...</td>\n",
       "    </tr>\n",
       "    <tr>\n",
       "      <th>1163416</th>\n",
       "      <td>Между словами ПРЕЗИДЕНТ и РЕЗИДЕНТ есть что ли...</td>\n",
       "      <td>0</td>\n",
       "      <td>между слово президент и резидент есть что либо...</td>\n",
       "    </tr>\n",
       "    <tr>\n",
       "      <th>1163417</th>\n",
       "      <td>\"Если это мое, то оно никуда от меня не денетс...</td>\n",
       "      <td>0</td>\n",
       "      <td>если это мой то оно никуда от я не деться</td>\n",
       "    </tr>\n",
       "    <tr>\n",
       "      <th>1163418</th>\n",
       "      <td>А Вы халяву любите или совесть имеете???) .</td>\n",
       "      <td>0</td>\n",
       "      <td>а вы халява любить или совесть иметь</td>\n",
       "    </tr>\n",
       "    <tr>\n",
       "      <th>1163419</th>\n",
       "      <td>Так много разных гороскопов кто-нибудь может п...</td>\n",
       "      <td>0</td>\n",
       "      <td>так много разный гороскоп ктонибыть мочь посов...</td>\n",
       "    </tr>\n",
       "    <tr>\n",
       "      <th>1163420</th>\n",
       "      <td>В пылу страстей она сломала мне вставную челюс...</td>\n",
       "      <td>0</td>\n",
       "      <td>в пыл страсть она сломать я вставной челюсть а...</td>\n",
       "    </tr>\n",
       "  </tbody>\n",
       "</table>\n",
       "<p>1232506 rows × 3 columns</p>\n",
       "</div>"
      ],
      "text/plain": [
       "                                                     title  target  \\\n",
       "0                                        Юбка детская ORBY       1   \n",
       "1                                                Ботильоны       1   \n",
       "2                                                    Брюки       1   \n",
       "3                                     Продам детские шапки       1   \n",
       "4                                                   Блузка       1   \n",
       "...                                                    ...     ...   \n",
       "1163416  Между словами ПРЕЗИДЕНТ и РЕЗИДЕНТ есть что ли...       0   \n",
       "1163417  \"Если это мое, то оно никуда от меня не денетс...       0   \n",
       "1163418        А Вы халяву любите или совесть имеете???) .       0   \n",
       "1163419  Так много разных гороскопов кто-нибудь может п...       0   \n",
       "1163420  В пылу страстей она сломала мне вставную челюс...       0   \n",
       "\n",
       "                                                 title_new  \n",
       "0                                        юбка детский orby  \n",
       "1                                                 ботильон  \n",
       "2                                                    брюки  \n",
       "3                                    продать детский шапка  \n",
       "4                                                   блузка  \n",
       "...                                                    ...  \n",
       "1163416  между слово президент и резидент есть что либо...  \n",
       "1163417          если это мой то оно никуда от я не деться  \n",
       "1163418               а вы халява любить или совесть иметь  \n",
       "1163419  так много разный гороскоп ктонибыть мочь посов...  \n",
       "1163420  в пыл страсть она сломать я вставной челюсть а...  \n",
       "\n",
       "[1232506 rows x 3 columns]"
      ]
     },
     "execution_count": 9,
     "metadata": {},
     "output_type": "execute_result"
    }
   ],
   "source": [
    "data_concat['title_new'] = data_concat['title'].apply(preprocess_text)\n",
    "data_concat"
   ]
  },
  {
   "cell_type": "code",
   "execution_count": 10,
   "id": "7380d715",
   "metadata": {},
   "outputs": [],
   "source": [
    "from sklearn.model_selection import train_test_split\n",
    "\n",
    "X = data_concat['title_new']\n",
    "y = data_concat['target']\n",
    "\n",
    "x_train, x_valid, y_train, y_valid = train_test_split(X, y, test_size = 0.2, stratify=y, shuffle=True, random_state=42)"
   ]
  },
  {
   "cell_type": "code",
   "execution_count": 11,
   "id": "f8515368",
   "metadata": {},
   "outputs": [
    {
     "name": "stdout",
     "output_type": "stream",
     "text": [
      "0    0.943947\n",
      "1    0.056053\n",
      "Name: target, dtype: float64\n",
      "0    0.943948\n",
      "1    0.056052\n",
      "Name: target, dtype: float64\n"
     ]
    }
   ],
   "source": [
    "print(y_train.value_counts(normalize=True))\n",
    "print(y.value_counts(normalize=True))"
   ]
  },
  {
   "cell_type": "code",
   "execution_count": 12,
   "id": "91ec4984",
   "metadata": {},
   "outputs": [],
   "source": [
    "count_vect = CountVectorizer().fit(x_train.values)\n",
    "\n",
    "xtrain_count = count_vect.transform(x_train)\n",
    "xvalid_count = count_vect.transform(x_valid)\n",
    "\n",
    "tfidf_vec = TfidfVectorizer().fit(x_train.values)\n",
    "xtrain_tfidf = tfidf_vec.transform(x_train)\n",
    "xvalid_tfidf = tfidf_vec.transform(x_valid)\n",
    "\n",
    "tfidf_ngrams = TfidfVectorizer(ngram_range=(1,3)).fit(x_train.values)\n",
    "xtrain_tfidf_ngram = tfidf_ngrams.transform(x_train)\n",
    "xvalid_tfidf_ngram = tfidf_ngrams.transform(x_valid)"
   ]
  },
  {
   "cell_type": "code",
   "execution_count": 13,
   "id": "05275566",
   "metadata": {},
   "outputs": [],
   "source": [
    "def train_model(classifier, feature_vector_train, label, feature_vector_valid):\n",
    "    classifier.fit(feature_vector_train, label)\n",
    "    prediction = classifier.predict(feature_vector_valid)\n",
    "    \n",
    "    return metrics.accuracy_score(prediction, y_valid)"
   ]
  },
  {
   "cell_type": "code",
   "execution_count": 14,
   "id": "c21bf324",
   "metadata": {},
   "outputs": [],
   "source": [
    "from sklearn import naive_bayes, linear_model, ensemble, metrics, svm"
   ]
  },
  {
   "cell_type": "code",
   "execution_count": 15,
   "id": "6ee7f61d",
   "metadata": {},
   "outputs": [
    {
     "name": "stdout",
     "output_type": "stream",
     "text": [
      "NB, Count Vectors:  0.9908438876763678\n",
      "NB, WordLevel TF-IDF:  0.9757365051804854\n",
      "NB, N-Gram Vectors:  0.9675459022644847\n"
     ]
    }
   ],
   "source": [
    "# Naive Bayes на Count Vectors\n",
    "accuracy = train_model(naive_bayes.MultinomialNB(), xtrain_count, y_train, xvalid_count)\n",
    "print(\"NB, Count Vectors: \", accuracy)\n",
    "\n",
    "# Naive Bayes на Word Level TF IDF Vectors\n",
    "accuracy = train_model(naive_bayes.MultinomialNB(), xtrain_tfidf, y_train, xvalid_tfidf)\n",
    "print(\"NB, WordLevel TF-IDF: \", accuracy)\n",
    "\n",
    "# Naive Bayes на Ngram Level TF IDF Vectors\n",
    "accuracy = train_model(naive_bayes.MultinomialNB(), xtrain_tfidf_ngram, y_train, xvalid_tfidf_ngram)\n",
    "print(\"NB, N-Gram Vectors: \", accuracy)"
   ]
  },
  {
   "cell_type": "code",
   "execution_count": 16,
   "id": "889d0e8e",
   "metadata": {},
   "outputs": [
    {
     "name": "stderr",
     "output_type": "stream",
     "text": [
      "/home/vadym/.local/lib/python3.10/site-packages/sklearn/linear_model/_logistic.py:458: ConvergenceWarning: lbfgs failed to converge (status=1):\n",
      "STOP: TOTAL NO. of ITERATIONS REACHED LIMIT.\n",
      "\n",
      "Increase the number of iterations (max_iter) or scale the data as shown in:\n",
      "    https://scikit-learn.org/stable/modules/preprocessing.html\n",
      "Please also refer to the documentation for alternative solver options:\n",
      "    https://scikit-learn.org/stable/modules/linear_model.html#logistic-regression\n",
      "  n_iter_i = _check_optimize_result(\n"
     ]
    },
    {
     "name": "stdout",
     "output_type": "stream",
     "text": [
      "LR, Count Vectors:  0.9939310837234586\n",
      "LR, WordLevel TF-IDF:  0.9935010669284631\n"
     ]
    },
    {
     "name": "stderr",
     "output_type": "stream",
     "text": [
      "/home/vadym/.local/lib/python3.10/site-packages/sklearn/linear_model/_logistic.py:458: ConvergenceWarning: lbfgs failed to converge (status=1):\n",
      "STOP: TOTAL NO. of ITERATIONS REACHED LIMIT.\n",
      "\n",
      "Increase the number of iterations (max_iter) or scale the data as shown in:\n",
      "    https://scikit-learn.org/stable/modules/preprocessing.html\n",
      "Please also refer to the documentation for alternative solver options:\n",
      "    https://scikit-learn.org/stable/modules/linear_model.html#logistic-regression\n",
      "  n_iter_i = _check_optimize_result(\n"
     ]
    }
   ],
   "source": [
    "# Linear Classifier на Count Vectors\n",
    "accuracy = train_model(linear_model.LogisticRegression(), xtrain_count, y_train, xvalid_count)\n",
    "print(\"LR, Count Vectors: \", accuracy)\n",
    "\n",
    "# Linear Classifier на Word Level TF IDF Vectors\n",
    "accuracy = train_model(linear_model.LogisticRegression(), xtrain_tfidf, y_train, xvalid_tfidf)\n",
    "print(\"LR, WordLevel TF-IDF: \", accuracy)\n",
    "\n",
    "# Linear Classifier на Ngram Level TF IDF Vectors\n",
    "# accuracy = train_model(linear_model.LogisticRegression(), xtrain_tfidf_ngram, y_train, xvalid_tfidf_ngram)\n",
    "# print(\"LR, N-Gram Vectors: \", accuracy)"
   ]
  },
  {
   "cell_type": "code",
   "execution_count": null,
   "id": "be8fb89e",
   "metadata": {},
   "outputs": [],
   "source": [
    "# SVM на Count Vectors\n",
    "accuracy = train_model(svm.SVC(), xtrain_count, y_train, xvalid_count)\n",
    "print(\"SVM, N-Gram Vectors: \", accuracy)\n",
    "\n",
    "# SVM на Word Level TF IDF Vectors\n",
    "accuracy = train_model(svm.SVC(), xtrain_tfidf, y_train, xvalid_tfidf)\n",
    "print(\"SVM, N-Gram Vectors: \", accuracy)\n",
    "\n",
    "# SVM на Ngram Level TF IDF Vectors\n",
    "accuracy = train_model(svm.SVC(), xtrain_tfidf_ngram, y_train, xvalid_tfidf_ngram)\n",
    "print(\"SVM, N-Gram Vectors: \", accuracy)"
   ]
  },
  {
   "cell_type": "code",
   "execution_count": 20,
   "id": "56c1993d",
   "metadata": {},
   "outputs": [
    {
     "name": "stderr",
     "output_type": "stream",
     "text": [
      "/home/vadym/.local/lib/python3.10/site-packages/sklearn/linear_model/_logistic.py:458: ConvergenceWarning: lbfgs failed to converge (status=1):\n",
      "STOP: TOTAL NO. of ITERATIONS REACHED LIMIT.\n",
      "\n",
      "Increase the number of iterations (max_iter) or scale the data as shown in:\n",
      "    https://scikit-learn.org/stable/modules/preprocessing.html\n",
      "Please also refer to the documentation for alternative solver options:\n",
      "    https://scikit-learn.org/stable/modules/linear_model.html#logistic-regression\n",
      "  n_iter_i = _check_optimize_result(\n"
     ]
    },
    {
     "data": {
      "text/html": [
       "<style>#sk-container-id-1 {color: black;background-color: white;}#sk-container-id-1 pre{padding: 0;}#sk-container-id-1 div.sk-toggleable {background-color: white;}#sk-container-id-1 label.sk-toggleable__label {cursor: pointer;display: block;width: 100%;margin-bottom: 0;padding: 0.3em;box-sizing: border-box;text-align: center;}#sk-container-id-1 label.sk-toggleable__label-arrow:before {content: \"▸\";float: left;margin-right: 0.25em;color: #696969;}#sk-container-id-1 label.sk-toggleable__label-arrow:hover:before {color: black;}#sk-container-id-1 div.sk-estimator:hover label.sk-toggleable__label-arrow:before {color: black;}#sk-container-id-1 div.sk-toggleable__content {max-height: 0;max-width: 0;overflow: hidden;text-align: left;background-color: #f0f8ff;}#sk-container-id-1 div.sk-toggleable__content pre {margin: 0.2em;color: black;border-radius: 0.25em;background-color: #f0f8ff;}#sk-container-id-1 input.sk-toggleable__control:checked~div.sk-toggleable__content {max-height: 200px;max-width: 100%;overflow: auto;}#sk-container-id-1 input.sk-toggleable__control:checked~label.sk-toggleable__label-arrow:before {content: \"▾\";}#sk-container-id-1 div.sk-estimator input.sk-toggleable__control:checked~label.sk-toggleable__label {background-color: #d4ebff;}#sk-container-id-1 div.sk-label input.sk-toggleable__control:checked~label.sk-toggleable__label {background-color: #d4ebff;}#sk-container-id-1 input.sk-hidden--visually {border: 0;clip: rect(1px 1px 1px 1px);clip: rect(1px, 1px, 1px, 1px);height: 1px;margin: -1px;overflow: hidden;padding: 0;position: absolute;width: 1px;}#sk-container-id-1 div.sk-estimator {font-family: monospace;background-color: #f0f8ff;border: 1px dotted black;border-radius: 0.25em;box-sizing: border-box;margin-bottom: 0.5em;}#sk-container-id-1 div.sk-estimator:hover {background-color: #d4ebff;}#sk-container-id-1 div.sk-parallel-item::after {content: \"\";width: 100%;border-bottom: 1px solid gray;flex-grow: 1;}#sk-container-id-1 div.sk-label:hover label.sk-toggleable__label {background-color: #d4ebff;}#sk-container-id-1 div.sk-serial::before {content: \"\";position: absolute;border-left: 1px solid gray;box-sizing: border-box;top: 0;bottom: 0;left: 50%;z-index: 0;}#sk-container-id-1 div.sk-serial {display: flex;flex-direction: column;align-items: center;background-color: white;padding-right: 0.2em;padding-left: 0.2em;position: relative;}#sk-container-id-1 div.sk-item {position: relative;z-index: 1;}#sk-container-id-1 div.sk-parallel {display: flex;align-items: stretch;justify-content: center;background-color: white;position: relative;}#sk-container-id-1 div.sk-item::before, #sk-container-id-1 div.sk-parallel-item::before {content: \"\";position: absolute;border-left: 1px solid gray;box-sizing: border-box;top: 0;bottom: 0;left: 50%;z-index: -1;}#sk-container-id-1 div.sk-parallel-item {display: flex;flex-direction: column;z-index: 1;position: relative;background-color: white;}#sk-container-id-1 div.sk-parallel-item:first-child::after {align-self: flex-end;width: 50%;}#sk-container-id-1 div.sk-parallel-item:last-child::after {align-self: flex-start;width: 50%;}#sk-container-id-1 div.sk-parallel-item:only-child::after {width: 0;}#sk-container-id-1 div.sk-dashed-wrapped {border: 1px dashed gray;margin: 0 0.4em 0.5em 0.4em;box-sizing: border-box;padding-bottom: 0.4em;background-color: white;}#sk-container-id-1 div.sk-label label {font-family: monospace;font-weight: bold;display: inline-block;line-height: 1.2em;}#sk-container-id-1 div.sk-label-container {text-align: center;}#sk-container-id-1 div.sk-container {/* jupyter's `normalize.less` sets `[hidden] { display: none; }` but bootstrap.min.css set `[hidden] { display: none !important; }` so we also need the `!important` here to be able to override the default hidden behavior on the sphinx rendered scikit-learn.org. See: https://github.com/scikit-learn/scikit-learn/issues/21755 */display: inline-block !important;position: relative;}#sk-container-id-1 div.sk-text-repr-fallback {display: none;}</style><div id=\"sk-container-id-1\" class=\"sk-top-container\"><div class=\"sk-text-repr-fallback\"><pre>LogisticRegression()</pre><b>In a Jupyter environment, please rerun this cell to show the HTML representation or trust the notebook. <br />On GitHub, the HTML representation is unable to render, please try loading this page with nbviewer.org.</b></div><div class=\"sk-container\" hidden><div class=\"sk-item\"><div class=\"sk-estimator sk-toggleable\"><input class=\"sk-toggleable__control sk-hidden--visually\" id=\"sk-estimator-id-1\" type=\"checkbox\" checked><label for=\"sk-estimator-id-1\" class=\"sk-toggleable__label sk-toggleable__label-arrow\">LogisticRegression</label><div class=\"sk-toggleable__content\"><pre>LogisticRegression()</pre></div></div></div></div></div>"
      ],
      "text/plain": [
       "LogisticRegression()"
      ]
     },
     "execution_count": 20,
     "metadata": {},
     "output_type": "execute_result"
    }
   ],
   "source": [
    "best_model = linear_model.LogisticRegression()\n",
    "best_model.fit(xtrain_count, y_train) \n",
    "\n",
    "with open('model.pkl', 'wb') as output:\n",
    "    pickle.dump(best_model, output)\n",
    "\n"
   ]
  },
  {
   "cell_type": "markdown",
   "id": "c4a587eb",
   "metadata": {},
   "source": [
    "→ Реализован поиск похожих товаров в контентной части бота\n",
    "\n",
    "* Все названия товаров свёрнуты в векторное представление Word2Vec (предобученном или обученном на исходном датасете).\n",
    "* Построен индекс по названиям документов.\n",
    "* Для товарных запросов реализован поиск в индексе (запрос также оборачивается Word2Vec, происходит проход в индекс).\n",
    "\n",
    "→ Реализована болталка\n",
    "\n",
    "* Все вопросы из датасета свёрнуты Word2Vec в векторное представление.\n",
    "* Построен индекс по вопросам.\n",
    "* На запрос в болталку происходит поиск ближайшего вопроса и возвращается ответ на этот вопрос."
   ]
  },
  {
   "cell_type": "markdown",
   "id": "3daac921",
   "metadata": {},
   "source": [
    "# Реализация поиска похожих товаров в контентной части бота "
   ]
  },
  {
   "cell_type": "code",
   "execution_count": 21,
   "id": "41044601",
   "metadata": {},
   "outputs": [],
   "source": [
    "exclude = set(punctuation)\n",
    "morpher = MorphAnalyzer()\n",
    "\n",
    "def preprocess_text_new(txt):\n",
    "    txt = str(txt)\n",
    "    txt = \"\".join(c for c in txt if c not in exclude)\n",
    "    txt = txt.lower()\n",
    "    txt = [morpher.parse(word)[0].normal_form for word in txt.split() if word not in exclude]\n",
    "    return txt"
   ]
  },
  {
   "cell_type": "code",
   "execution_count": 22,
   "id": "2e53a406",
   "metadata": {},
   "outputs": [],
   "source": [
    "sentences = df['title'].apply(preprocess_text_new)"
   ]
  },
  {
   "cell_type": "code",
   "execution_count": 23,
   "id": "f247a042",
   "metadata": {},
   "outputs": [],
   "source": [
    "model_w2v = Word2Vec(sentences = sentences.values, vector_size = 100, window = 3)\n",
    "model_w2v.save('w2v_product_model')"
   ]
  },
  {
   "cell_type": "code",
   "execution_count": 24,
   "id": "86cb8753",
   "metadata": {},
   "outputs": [
    {
     "data": {
      "text/plain": [
       "True"
      ]
     },
     "execution_count": 24,
     "metadata": {},
     "output_type": "execute_result"
    }
   ],
   "source": [
    "index = annoy.AnnoyIndex(100, 'angular')\n",
    "\n",
    "index_map = {}\n",
    "counter = 0\n",
    "\n",
    "for i in range(df.shape[0]):\n",
    "    \n",
    "    n_w2v = 0\n",
    "    answer = df.iloc[i, 2]\n",
    "    index_map[counter] = answer\n",
    "    \n",
    "    vector = np.zeros(100)\n",
    "    question = preprocess_text_new(df.iloc[i, 0])\n",
    "    for word in question:\n",
    "        if word in model_w2v.wv:\n",
    "            vector += model_w2v.wv[word]\n",
    "            n_w2v += 1\n",
    "            \n",
    "    if n_w2v > 0:\n",
    "        vector = vector / n_w2v\n",
    "    index.add_item(counter, vector)\n",
    "    \n",
    "    counter += 1\n",
    "    \n",
    "index.build(10)\n",
    "index.save('speaker_2.ann')"
   ]
  },
  {
   "cell_type": "markdown",
   "id": "c95cb4e5",
   "metadata": {},
   "source": [
    "# Реализация болталки"
   ]
  },
  {
   "cell_type": "code",
   "execution_count": 40,
   "id": "bf91cdbb",
   "metadata": {},
   "outputs": [
    {
     "data": {
      "application/vnd.jupyter.widget-view+json": {
       "model_id": "c8d3e06961474dd790a3caedb1781a35",
       "version_major": 2,
       "version_minor": 0
      },
      "text/plain": [
       "0it [00:00, ?it/s]"
      ]
     },
     "metadata": {},
     "output_type": "display_data"
    }
   ],
   "source": [
    "sentences = []\n",
    "\n",
    "morpher = MorphAnalyzer()\n",
    "sw = set(get_stop_words(\"ru\"))\n",
    "exclude = set(string.punctuation)\n",
    "c = 0\n",
    "\n",
    "with codecs.open(\"data/Otvety.txt\", \"r\", \"utf-8\") as fin:\n",
    "    for line in tqdm(fin):\n",
    "        spls = preprocess_text_new(line)\n",
    "        sentences.append(spls)\n",
    "        c += 1\n",
    "        if c > 500000:\n",
    "            break"
   ]
  },
  {
   "cell_type": "code",
   "execution_count": 41,
   "id": "92711c0b",
   "metadata": {},
   "outputs": [],
   "source": [
    "sentences = [i for i in sentences if len(i) > 2]\n",
    "talk_model = Word2Vec(sentences=sentences, vector_size=100, min_count=1, window=5)\n",
    "talk_model.save(\"w2v_talk_model\")"
   ]
  },
  {
   "cell_type": "code",
   "execution_count": 42,
   "id": "9ec950df",
   "metadata": {},
   "outputs": [
    {
     "data": {
      "application/vnd.jupyter.widget-view+json": {
       "model_id": "90c6a49129fe47159c3f8c44661b469e",
       "version_major": 2,
       "version_minor": 0
      },
      "text/plain": [
       "0it [00:00, ?it/s]"
      ]
     },
     "metadata": {},
     "output_type": "display_data"
    },
    {
     "data": {
      "text/plain": [
       "True"
      ]
     },
     "execution_count": 42,
     "metadata": {},
     "output_type": "execute_result"
    }
   ],
   "source": [
    "talk_index = annoy.AnnoyIndex(100 ,'angular')\n",
    "\n",
    "talk_index_map = {}\n",
    "counter = 0\n",
    "\n",
    "with codecs.open(\"prepared_answers.txt\", \"r\", \"utf-8\") as f:\n",
    "    for line in tqdm(f):\n",
    "        n_w2v = 0\n",
    "        spls = line.split(\"\\t\")\n",
    "        talk_index_map[counter] = spls[1]\n",
    "        question = preprocess_text_new(spls[0])\n",
    "        vector = np.zeros(100)\n",
    "        for word in question:\n",
    "            if word in talk_model.wv:\n",
    "                vector += talk_model.wv[word]\n",
    "                n_w2v += 1\n",
    "        if n_w2v > 0:\n",
    "            vector = vector / n_w2v\n",
    "        talk_index.add_item(counter, vector)\n",
    "            \n",
    "        counter += 1\n",
    "\n",
    "talk_index.build(10)\n",
    "talk_index.save('speaker.ann')"
   ]
  },
  {
   "cell_type": "markdown",
   "id": "25873b74",
   "metadata": {},
   "source": [
    "# Реализуем логику поиска похожих товаров по продуктовому запросу"
   ]
  },
  {
   "cell_type": "code",
   "execution_count": 43,
   "id": "1bee310c",
   "metadata": {},
   "outputs": [],
   "source": [
    "def get_answer(question):\n",
    "    if best_model.predict(count_vect.transform([preprocess_text(question)]))[0] == 1:\n",
    "        preprocessed_question = preprocess_text_new(question)\n",
    "        n_w2v = 0\n",
    "        vector = np.zeros(100)\n",
    "        for word in preprocessed_question:\n",
    "            if word in model_w2v.wv:\n",
    "                vector += model_w2v.wv[word]\n",
    "                n_w2v += 1\n",
    "        if n_w2v > 0:\n",
    "            vector = vector / n_w2v\n",
    "        answer_index = index.get_nns_by_vector(vector, 1)\n",
    "        return index_map[answer_index[0]]\n",
    "        \n",
    "    else:\n",
    "        preprocessed_question = preprocess_text_new(question)\n",
    "        n_w2v = 0\n",
    "        vector = np.zeros(100)\n",
    "        for word in preprocessed_question:\n",
    "            if word in talk_model.wv:\n",
    "                vector += talk_model.wv[word]\n",
    "                n_w2v += 1\n",
    "        if n_w2v > 0:\n",
    "            vector = vector / n_w2v\n",
    "        answer_index = talk_index.get_nns_by_vector(vector, 1)\n",
    "        return talk_index_map[answer_index[0]]"
   ]
  },
  {
   "cell_type": "code",
   "execution_count": 44,
   "id": "593944c9",
   "metadata": {},
   "outputs": [],
   "source": [
    "assert(get_answer('Юбка детская ORBY').startswith('58e3cfe6132ca50e053f5f82'))\n",
    "assert(not get_answer('Где ключи от танка?').startswith('5'))"
   ]
  },
  {
   "cell_type": "code",
   "execution_count": null,
   "id": "b5e0c38f",
   "metadata": {},
   "outputs": [],
   "source": []
  }
 ],
 "metadata": {
  "kernelspec": {
   "display_name": "Python 3 (ipykernel)",
   "language": "python",
   "name": "python3"
  },
  "language_info": {
   "codemirror_mode": {
    "name": "ipython",
    "version": 3
   },
   "file_extension": ".py",
   "mimetype": "text/x-python",
   "name": "python",
   "nbconvert_exporter": "python",
   "pygments_lexer": "ipython3",
   "version": "3.10.12"
  }
 },
 "nbformat": 4,
 "nbformat_minor": 5
}
